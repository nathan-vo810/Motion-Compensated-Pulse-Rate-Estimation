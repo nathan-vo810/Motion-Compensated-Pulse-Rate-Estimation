{
 "cells": [
  {
   "cell_type": "markdown",
   "metadata": {},
   "source": [
    "## Part 1: Pulse Rate Algorithm\n",
    "\n",
    "### Contents\n",
    "Fill out this notebook as part of your final project submission.\n",
    "\n",
    "**You will have to complete both the Code and Project Write-up sections.**\n",
    "- The [Code](#Code) is where you will write a **pulse rate algorithm** and already includes the starter code.\n",
    "   - Imports - These are the imports needed for Part 1 of the final project. \n",
    "     - [glob](https://docs.python.org/3/library/glob.html)\n",
    "     - [numpy](https://numpy.org/)\n",
    "     - [scipy](https://www.scipy.org/)\n",
    "- The [Project Write-up](#Project-Write-up) to describe why you wrote the algorithm for the specific case.\n",
    "\n",
    "\n",
    "### Dataset\n",
    "You will be using the **Troika**[1] dataset to build your algorithm. Find the dataset under `datasets/troika/training_data`. The `README` in that folder will tell you how to interpret the data. The starter code contains a function to help load these files.\n",
    "\n",
    "1. Zhilin Zhang, Zhouyue Pi, Benyuan Liu, ‘‘TROIKA: A General Framework for Heart Rate Monitoring Using Wrist-Type Photoplethysmographic Signals During Intensive Physical Exercise,’’IEEE Trans. on Biomedical Engineering, vol. 62, no. 2, pp. 522-531, February 2015. Link\n",
    "\n",
    "-----"
   ]
  },
  {
   "cell_type": "markdown",
   "metadata": {},
   "source": [
    "### Code"
   ]
  },
  {
   "cell_type": "code",
   "execution_count": 1,
   "metadata": {},
   "outputs": [],
   "source": [
    "import glob\n",
    "\n",
    "import numpy as np\n",
    "\n",
    "import scipy as sp\n",
    "import scipy.io\n",
    "import scipy.signal\n",
    "import scipy.stats\n",
    "\n",
    "import matplotlib.pyplot as plt\n",
    "%matplotlib inline\n",
    "\n",
    "\n",
    "def LoadTroikaDataset():\n",
    "    \"\"\"\n",
    "    Retrieve the .mat filenames for the troika dataset.\n",
    "\n",
    "    Review the README in ./datasets/troika/ to understand the organization of the .mat files.\n",
    "\n",
    "    Returns:\n",
    "        data_fls: Names of the .mat files that contain signal data\n",
    "        ref_fls: Names of the .mat files that contain reference data\n",
    "        <data_fls> and <ref_fls> are ordered correspondingly, so that ref_fls[5] is the \n",
    "            reference data for data_fls[5], etc...\n",
    "    \"\"\"\n",
    "    data_dir = \"./datasets/troika/training_data\"\n",
    "    data_fls = sorted(glob.glob(data_dir + \"/DATA_*.mat\"))\n",
    "    ref_fls = sorted(glob.glob(data_dir + \"/REF_*.mat\"))\n",
    "    return data_fls, ref_fls\n",
    "\n",
    "def LoadTroikaDataFile(data_fl):\n",
    "    \"\"\"\n",
    "    Loads and extracts signals from a troika data file.\n",
    "\n",
    "    Usage:\n",
    "        data_fls, ref_fls = LoadTroikaDataset()\n",
    "        ppg, accx, accy, accz = LoadTroikaDataFile(data_fls[0])\n",
    "\n",
    "    Args:\n",
    "        data_fl: (str) filepath to a troika .mat file.\n",
    "\n",
    "    Returns:\n",
    "        numpy arrays for ppg, accx, accy, accz signals.\n",
    "    \"\"\"\n",
    "    data = sp.io.loadmat(data_fl)['sig']\n",
    "    return data[2:]\n",
    "\n",
    "def AggregateErrorMetric(pr_errors, confidence_est):\n",
    "    \"\"\"\n",
    "    Computes an aggregate error metric based on confidence estimates.\n",
    "\n",
    "    Computes the MAE at 90% availability. \n",
    "\n",
    "    Args:\n",
    "        pr_errors: a numpy array of errors between pulse rate estimates and corresponding \n",
    "            reference heart rates.\n",
    "        confidence_est: a numpy array of confidence estimates for each pulse rate\n",
    "            error.\n",
    "\n",
    "    Returns:\n",
    "        the MAE at 90% availability\n",
    "    \"\"\"\n",
    "    # Higher confidence means a better estimate. The best 90% of the estimates\n",
    "    #    are above the 10th percentile confidence.\n",
    "    percentile90_confidence = np.percentile(confidence_est, 10)\n",
    "\n",
    "    # Find the errors of the best pulse rate estimates\n",
    "    best_estim0tes = pr_errors[confidence_est >= percentile90_confidence]\n",
    "\n",
    "    # Return the mean absolute error\n",
    "    return np.mean(np.abs(best_estimates))\n",
    "\n",
    "def Evaluate():\n",
    "    \"\"\"\n",
    "    Top-level function evaluation function.\n",
    "\n",
    "    Runs the pulse rate algorithm on the Troika dataset and returns an aggregate error metric.\n",
    "\n",
    "    Returns:\n",
    "        Pulse rate error on the Troika dataset. See AggregateErrorMetric.\n",
    "    \"\"\"\n",
    "    # Retrieve dataset files\n",
    "    data_fls, ref_fls = LoadTroikaDataset()\n",
    "    errs, confs = [], []\n",
    "    for data_fl, ref_fl in zip(data_fls, ref_fls):\n",
    "        # Run the pulse rate algorithm on each trial in the dataset\n",
    "        errors, confidence = RunPulseRateAlgorithm(data_fl, ref_fl)\n",
    "        errs.append(errors)\n",
    "        confs.append(confidence)\n",
    "        # Compute aggregate error metric\n",
    "    errs = np.hstack(errs)\n",
    "    confs = np.hstack(confs)\n",
    "    return AggregateErrorMetric(errs, confs)"
   ]
  },
  {
   "cell_type": "code",
   "execution_count": 2,
   "metadata": {},
   "outputs": [],
   "source": [
    "def bandpass_filter(signal, fs):\n",
    "    \"\"\"\n",
    "    Runs a bandpass filter with butterworth algorithm.\n",
    "\n",
    "    Returns:\n",
    "        Bandpass filtered signal\n",
    "    \"\"\"          \n",
    "    pass_band=(40/60.0, 240/60.0)\n",
    "    b, a = scipy.signal.butter(3, pass_band, btype='bandpass', fs=fs)\n",
    "    return scipy.signal.filtfilt(b, a, signal)"
   ]
  },
  {
   "cell_type": "code",
   "execution_count": 78,
   "metadata": {},
   "outputs": [],
   "source": [
    "def fourier_transform(signal, fs):\n",
    "    \"\"\"\n",
    "    Run a Fourier Transform on a signal\n",
    "    \n",
    "    Returns:\n",
    "        Freq and Magnitude of the signal after running the FFT\n",
    "    \"\"\"\n",
    "    freqs = np.fft.rfftfreq(2*len(signal), 1/fs)\n",
    "    fft = np.abs(np.fft.rfft(signal, 2*len(signal)))\n",
    "    return freqs, fft"
   ]
  },
  {
   "cell_type": "code",
   "execution_count": 83,
   "metadata": {},
   "outputs": [],
   "source": [
    "def get_features(ppg, acc, fs):\n",
    "    \"\"\"\n",
    "    Get features in our data\n",
    "    \n",
    "    Returns:\n",
    "        PPG and ACC: Peaks, Peaks Freqency, Frequency and Magnitude after running FFT\n",
    "    \"\"\"\n",
    "    # Fourier Transform the ppg signal\n",
    "    ppg_freqs, ppg_fft = fourier_transform(ppg, fs)\n",
    "    \n",
    "    # Filter data\n",
    "    ppg_fft[ppg_freqs <= 70/60.0] = 0.0\n",
    "    ppg_fft[ppg_freqs >= 190/60.0] = 0.0\n",
    "    \n",
    "    # Find peaks\n",
    "    ppg_peaks = sp.signal.find_peaks(ppg_fft, height=2000)[0]\n",
    "    ppg_peaks_f = ppg_freqs[ppg_peaks]\n",
    "    \n",
    "    # Fourier Transform the acc signal\n",
    "    acc_freqs, acc_fft = fourier_transform(acc, fs)\n",
    "    \n",
    "    # Filter data\n",
    "    acc_fft[acc_freqs <= 70/60.0] = 0.0\n",
    "    acc_fft[acc_freqs >= 190/60.0] = 0.0\n",
    "    \n",
    "    # Find peaks\n",
    "    acc_peaks = sp.signal.find_peaks(acc_fft, height=None)[0]\n",
    "    acc_peaks_f = acc_freqs[acc_peaks]\n",
    "    \n",
    "    return {'ppg': (ppg_peaks, ppg_peaks_f, ppg_freqs, ppg_fft), 'acc': (acc_peaks, acc_peaks_f, acc_freqs, acc_fft)}"
   ]
  },
  {
   "cell_type": "code",
   "execution_count": 84,
   "metadata": {},
   "outputs": [],
   "source": [
    "def calculate_confidence(freqs, fft_mag, bpm_f):\n",
    "    \"\"\"\n",
    "    Calculate the confidence of the heart rate\n",
    "    \n",
    "    Returns:\n",
    "        Confidence of the estimated heart rate\n",
    "    \"\"\"\n",
    "    window_f = 30/60\n",
    "    fundamental_freq_window = (freqs > bpm_f - window_f) & (freqs < bpm_f + window_f)\n",
    "    return np.sum(fft_mag[fundamental_freq_window])/ np.sum(fft_mag)"
   ]
  },
  {
   "cell_type": "code",
   "execution_count": 88,
   "metadata": {},
   "outputs": [],
   "source": [
    "def estimate(ppg, acc, window_length_s, window_shift_s, fs):\n",
    "    \"\"\"\n",
    "    Estimate the heart rate\n",
    "    \n",
    "    Returns:\n",
    "        The estimated heart rate and the confidence\n",
    "    \"\"\"\n",
    "    window_length = window_length_s * fs\n",
    "    window_shift = window_shift_s * fs\n",
    "    \n",
    "    est_bpm = []\n",
    "    confidence = []\n",
    "    \n",
    "    prev_est = 40/60\n",
    "    \n",
    "    for i in range(0, len(ppg) - window_length, window_shift):\n",
    "        ppg_window = ppg[i:i+window_length]\n",
    "        acc_window = acc[i:i+window_length]\n",
    "        \n",
    "        window_features = get_features(ppg_window, acc, fs)\n",
    "        ppg_peaks, ppg_peaks_f, ppg_freqs, ppg_fft = window_features['ppg']\n",
    "        acc_peaks, acc_peaks_f, acc_freqs, acc_fft = window_features['acc']\n",
    "        \n",
    "        ppg_max = ppg_freqs[np.argmax(ppg_fft)]\n",
    "        acc_max = acc_freqs[np.argmax(acc_fft)]\n",
    "        \n",
    "        k = 1\n",
    "        \n",
    "        while np.abs(acc_max-ppg_max) <= 0.2 and k <=2:\n",
    "            k+=1\n",
    "            ppg_max = ppg_freqs[np.argsort(ppg_fft, axis=0)[-k]]\n",
    "            acc_max = acc_freqs[np.argsort(acc_fft, axis=0)[-k]]\n",
    "        \n",
    "        est_bpm_f = ppg_max\n",
    "        \n",
    "        prev_est = est_bpm_f\n",
    "        est_bpm.append(est_bpm_f*60)\n",
    "        confidence.append(calculate_confidence(ppg_freqs, ppg_fft, est_bpm_f))\n",
    "\n",
    "    return est_bpm, confidence"
   ]
  },
  {
   "cell_type": "code",
   "execution_count": 89,
   "metadata": {},
   "outputs": [],
   "source": [
    "def plot_fft(signal, freqs, fft, fs):\n",
    "    plt.subplot(2,1,1)\n",
    "    ts = np.arange(len(signal)) / fs\n",
    "    plt.plot(ts, signal)\n",
    "    plt.subplot(2,1,2)\n",
    "    plt.plot(freqs, np.abs(fft))\n",
    "    plt.title(\"Frequency Domain\")\n",
    "    plt.xlabel(\"Frequency (Hz)\")\n",
    "    plt.tight_layout()"
   ]
  },
  {
   "cell_type": "code",
   "execution_count": 101,
   "metadata": {},
   "outputs": [],
   "source": [
    "def RunPulseRateAlgorithm(data_fl, ref_fl):\n",
    "    # Load data using LoadTroikaDataFile\n",
    "    ppg, accx, accy, accz = LoadTroikaDataFile(data_fl)\n",
    "    bpm = sp.io.loadmat(ref_fl)['BPM0']\n",
    "    \n",
    "    # Our data is sampled at 125Hz\n",
    "    fs = 125\n",
    "    \n",
    "    # Bandpass Filter\n",
    "    ppg = bandpass_filter(ppg, fs)\n",
    "    accx = bandpass_filter(accx, fs)\n",
    "    accy = bandpass_filter(accy, fs)\n",
    "    accz = bandpass_filter(accz, fs)\n",
    "    \n",
    "    # Calculate the magnitute of the accelerometers\n",
    "    acc = np.sqrt(accx**2 + accy**2 + accz**2)\n",
    "    \n",
    "    # Windowing our ppg and acc signal to estimate\n",
    "    window_length_s = 8\n",
    "    window_shift_s = 2    \n",
    "    \n",
    "    # Compute pulse rate estimates and estimation confidence.\n",
    "    est_bpm, confidence = estimate(ppg, acc, window_length_s, window_shift_s, fs)\n",
    "\n",
    "    # Return per-estimate mean absolute error and confidence as a 2-tuple of numpy arrays.\n",
    "    errors = np.abs(np.diag(np.subtract(bpm, est_bpm)))\n",
    "    \n",
    "    return errors, confidence"
   ]
  },
  {
   "cell_type": "markdown",
   "metadata": {},
   "source": [
    "## TESTING SECTION"
   ]
  },
  {
   "cell_type": "code",
   "execution_count": 60,
   "metadata": {
    "scrolled": true
   },
   "outputs": [],
   "source": [
    "data_fls, ref_fls = LoadTroikaDataset()\n",
    "num = 0\n",
    "data_fl, ref_fl = data_fls[num], ref_fls[num]\n",
    "bpm = sp.io.loadmat(ref_fl)['BPM0']\n",
    "ppg, accx, accy, accz = LoadTroikaDataFile(data_fl)\n",
    "ppg = bandpass_filter(ppg, fs)\n",
    "accx = bandpass_filter(accx, fs)\n",
    "accy = bandpass_filter(accy, fs)\n",
    "accz = bandpass_filter(accz, fs)\n",
    "acc = np.sqrt(accx**2 + accy**2 + accz**2)"
   ]
  },
  {
   "cell_type": "code",
   "execution_count": 61,
   "metadata": {},
   "outputs": [],
   "source": [
    "ppg_window = ppg[0:8*fs]\n",
    "acc_window = acc[0:8*fs]"
   ]
  },
  {
   "cell_type": "code",
   "execution_count": 62,
   "metadata": {},
   "outputs": [],
   "source": [
    "ppg_freqs, ppg_fft = fourier_transform(ppg_window, fs)"
   ]
  },
  {
   "cell_type": "code",
   "execution_count": 63,
   "metadata": {
    "scrolled": false
   },
   "outputs": [
    {
     "data": {
      "image/png": "[encoded data removed]",
      "text/plain": [
       "<matplotlib.figure.Figure at 0x7f1d74c7d780>"
      ]
     },
     "metadata": {
      "needs_background": "light"
     },
     "output_type": "display_data"
    }
   ],
   "source": [
    "plot_fft(ppg_window, ppg_freqs, ppg_fft, fs)"
   ]
  },
  {
   "cell_type": "code",
   "execution_count": 64,
   "metadata": {},
   "outputs": [],
   "source": [
    "acc_freqs, acc_fft = fourier_transform(acc_window, fs)"
   ]
  },
  {
   "cell_type": "code",
   "execution_count": 65,
   "metadata": {
    "scrolled": true
   },
   "outputs": [
    {
     "data": {
      "image/png": "[encoded data removed]",
      "text/plain": [
       "<matplotlib.figure.Figure at 0x7f1d74d74b38>"
      ]
     },
     "metadata": {
      "needs_background": "light"
     },
     "output_type": "display_data"
    }
   ],
   "source": [
    "plot_fft(acc_window, acc_freqs, acc_fft, fs)"
   ]
  },
  {
   "cell_type": "code",
   "execution_count": 66,
   "metadata": {
    "scrolled": true
   },
   "outputs": [
    {
     "data": {
      "text/plain": [
       "[<matplotlib.lines.Line2D at 0x7f1d74d1aa58>]"
      ]
     },
     "execution_count": 66,
     "metadata": {},
     "output_type": "execute_result"
    },
    {
     "data": {
      "image/png": "[encoded data removed]",
      "text/plain": [
       "<matplotlib.figure.Figure at 0x7f1d74d1ad30>"
      ]
     },
     "metadata": {
      "needs_background": "light"
     },
     "output_type": "display_data"
    }
   ],
   "source": [
    "ppg_peaks = sp.signal.find_peaks(ppg_fft, height=2000, distance=10)[0]\n",
    "plt.plot(ppg_fft)\n",
    "plt.plot(ppg_peaks, ppg_fft[ppg_peaks], 'r.')"
   ]
  },
  {
   "cell_type": "code",
   "execution_count": 67,
   "metadata": {
    "scrolled": true
   },
   "outputs": [
    {
     "data": {
      "text/plain": [
       "[<matplotlib.lines.Line2D at 0x7f1d74a94b70>]"
      ]
     },
     "execution_count": 67,
     "metadata": {},
     "output_type": "execute_result"
    },
    {
     "data": {
      "image/png": "[encoded data removed]",
      "text/plain": [
       "<matplotlib.figure.Figure at 0x7f1d74a94710>"
      ]
     },
     "metadata": {
      "needs_background": "light"
     },
     "output_type": "display_data"
    }
   ],
   "source": [
    "acc_peaks = sp.signal.find_peaks(acc_fft, height=10)[0]\n",
    "plt.plot(acc_fft)\n",
    "plt.plot(acc_peaks, acc_fft[acc_peaks], 'r.')"
   ]
  },
  {
   "cell_type": "code",
   "execution_count": 68,
   "metadata": {
    "scrolled": true
   },
   "outputs": [
    {
     "data": {
      "text/plain": [
       "array([20, 39])"
      ]
     },
     "execution_count": 68,
     "metadata": {},
     "output_type": "execute_result"
    }
   ],
   "source": [
    "ppg_peaks"
   ]
  },
  {
   "cell_type": "code",
   "execution_count": 69,
   "metadata": {},
   "outputs": [
    {
     "data": {
      "text/plain": [
       "array([ 1.25  ,  2.4375])"
      ]
     },
     "execution_count": 69,
     "metadata": {},
     "output_type": "execute_result"
    }
   ],
   "source": [
    "ppg_freqs[ppg_peaks]"
   ]
  },
  {
   "cell_type": "code",
   "execution_count": 77,
   "metadata": {},
   "outputs": [
    {
     "data": {
      "text/plain": [
       "1.25"
      ]
     },
     "execution_count": 77,
     "metadata": {},
     "output_type": "execute_result"
    }
   ],
   "source": [
    "ppg_freqs[np.argmax(ppg_fft)]"
   ]
  },
  {
   "cell_type": "code",
   "execution_count": 70,
   "metadata": {},
   "outputs": [
    {
     "data": {
      "text/plain": [
       "array([ 2,  5,  7, 11, 13])"
      ]
     },
     "execution_count": 70,
     "metadata": {},
     "output_type": "execute_result"
    }
   ],
   "source": [
    "acc_peaks"
   ]
  },
  {
   "cell_type": "code",
   "execution_count": 71,
   "metadata": {
    "scrolled": true
   },
   "outputs": [
    {
     "data": {
      "text/plain": [
       "array([ 0.125 ,  0.3125,  0.4375,  0.6875,  0.8125])"
      ]
     },
     "execution_count": 71,
     "metadata": {},
     "output_type": "execute_result"
    }
   ],
   "source": [
    "acc_freqs[acc_peaks]"
   ]
  },
  {
   "cell_type": "code",
   "execution_count": 72,
   "metadata": {},
   "outputs": [],
   "source": [
    "accx_window = accx[0:8*fs]\n",
    "accy_window = accy[0:8*fs]\n",
    "accz_window = accz[0:8*fs]"
   ]
  },
  {
   "cell_type": "code",
   "execution_count": 73,
   "metadata": {},
   "outputs": [],
   "source": [
    "accx_freqs, accx_fft = fourier_transform(accx_window, fs)\n",
    "accy_freqs, accy_fft = fourier_transform(accy_window, fs)\n",
    "accz_freqs, accz_fft = fourier_transform(accz_window, fs)"
   ]
  },
  {
   "cell_type": "code",
   "execution_count": 74,
   "metadata": {
    "scrolled": true
   },
   "outputs": [
    {
     "name": "stdout",
     "output_type": "stream",
     "text": [
      "[ 0.6875  0.8125  1.      1.125 ]\n"
     ]
    },
    {
     "data": {
      "image/png": "[encoded data removed]",
      "text/plain": [
       "<matplotlib.figure.Figure at 0x7f1d74d749e8>"
      ]
     },
     "metadata": {
      "needs_background": "light"
     },
     "output_type": "display_data"
    }
   ],
   "source": [
    "accx_peaks = sp.signal.find_peaks(accx_fft, height=10)[0]\n",
    "plt.plot(accx_fft)\n",
    "plt.plot(accx_peaks, accx_fft[accx_peaks], 'r.')\n",
    "print(accx_freqs[accx_peaks])"
   ]
  },
  {
   "cell_type": "code",
   "execution_count": 75,
   "metadata": {},
   "outputs": [
    {
     "name": "stdout",
     "output_type": "stream",
     "text": [
      "[ 1.9375]\n"
     ]
    },
    {
     "data": {
      "image/png": "[encoded data removed]",
      "text/plain": [
       "<matplotlib.figure.Figure at 0x7f1d74db1780>"
      ]
     },
     "metadata": {
      "needs_background": "light"
     },
     "output_type": "display_data"
    }
   ],
   "source": [
    "accy_peaks = sp.signal.find_peaks(accy_fft, height=10)[0]\n",
    "plt.plot(accy_fft)\n",
    "plt.plot(accy_peaks, accy_fft[accy_peaks], 'r.')\n",
    "print(accy_freqs[accy_peaks])"
   ]
  },
  {
   "cell_type": "code",
   "execution_count": 76,
   "metadata": {
    "scrolled": true
   },
   "outputs": [
    {
     "name": "stdout",
     "output_type": "stream",
     "text": [
      "[ 0.6875  0.8125  1.      1.25    1.375   1.5625  1.6875  1.8125  2.375\n",
      "  2.5     2.625   2.75  ]\n"
     ]
    },
    {
     "data": {
      "image/png": "[encoded data removed]",
      "text/plain": [
       "<matplotlib.figure.Figure at 0x7f1d74d1a780>"
      ]
     },
     "metadata": {
      "needs_background": "light"
     },
     "output_type": "display_data"
    }
   ],
   "source": [
    "accz_peaks = sp.signal.find_peaks(accz_fft, height=10)[0]\n",
    "plt.plot(accz_fft)\n",
    "plt.plot(accz_peaks, accz_fft[accz_peaks], 'r.')\n",
    "print(accz_freqs[accz_peaks])"
   ]
  },
  {
   "cell_type": "markdown",
   "metadata": {},
   "source": [
    "-----\n",
    "### Project Write-up\n",
    "\n",
    "Answer the following prompts to demonstrate understanding of the algorithm you wrote for this specific context.\n",
    "\n",
    "> - **Code Description** - Include details so someone unfamiliar with your project will know how to run your code and use your algorithm. \n",
    "> - **Data Description** - Describe the dataset that was used to train and test the algorithm. Include its short-comings and what data would be required to build a more complete dataset.\n",
    "> - **Algorithhm Description** will include the following:\n",
    ">   - how the algorithm works\n",
    ">   - the specific aspects of the physiology that it takes advantage of\n",
    ">   - a describtion of the algorithm outputs\n",
    ">   - caveats on algorithm outputs \n",
    ">   - common failure modes\n",
    "> - **Algorithm Performance** - Detail how performance was computed (eg. using cross-validation or train-test split) and what metrics were optimized for. Include error metrics that would be relevant to users of your algorithm. Caveat your performance numbers by acknowledging how generalizable they may or may not be on different datasets."
   ]
  },
  {
   "cell_type": "markdown",
   "metadata": {},
   "source": [
    "### CODE DESCRIPTION\n",
    "- To run the result of the project, use the Evaluate() function.\n",
    "- The Evaluate() function will handle the following steps:\n",
    "    - Load the TROIKA data and reference files.\n",
    "    - Run the PulseRate algorithm to estimate the heart rate\n",
    "    - The RunPulseRate function will return estimated heart rates and their corresponding confidence"
   ]
  },
  {
   "cell_type": "markdown",
   "metadata": {},
   "source": [
    "### DATA DESCRIPTION\n",
    "- The data set contains:\n",
    "    - PPG Signal\n",
    "    - Accelerometer signal in three directions\n",
    "- Those features were used to handle our heart rate estimation.\n",
    "- The ECG signal is used as a reference heart rate (which can be considered as a ground truth)\n",
    "- The data is quite noisy \n",
    "- We don't have much information about the subjects being collected\n",
    "- The data set is collected from subject of age 18 - 35 years old. No information about the gender distribution was given.\n",
    "- The subject being tested with various activities on the treadmill (rest, jog, running with different speed)."
   ]
  },
  {
   "cell_type": "markdown",
   "metadata": {},
   "source": [
    "### Algorithm Desciption\n",
    "#### Flow\n",
    "- When running the RunPulseRate function, the following steps will occur:\n",
    "    - Bandpass filter to make our signal in a reasonable range (40-240 bpm) to match with the real-life\n",
    "    - Compute the aggregate accelerometer magnitude\n",
    "    - Divide our signals into smaller windows of size 8s, each window is 2s apart\n",
    "    - Estimate the heart rate using the window\n",
    "        - Run FFT on the window signal\n",
    "        - Find peaks in our frequency domain\n",
    "        - Choose the correct pulse to estimate our heart rate for that window\n",
    "        - Compute the confidence of the estimated heart rate\n",
    "#### Specific aspect of physiology used\n",
    "- The algorithm uses the accelerometor signal to filter out movement pulse from heart pulse\n",
    "#### Caveats\n",
    "- The algorithm requires available of acc, ppg signals and a reference bpm\n",
    "#### Failure modes\n",
    "- The algorithm may perform purely if there is a lot of noise in the signal"
   ]
  },
  {
   "cell_type": "markdown",
   "metadata": {},
   "source": [
    "### Algorithm Performance\n",
    "- The metric used to compute the error is Mean Absolute Value\n",
    "- The estimated heart rate is compared with the reference measurement in the data set"
   ]
  },
  {
   "cell_type": "markdown",
   "metadata": {},
   "source": [
    "-----\n",
    "### Next Steps\n",
    "You will now go to **Test Your Algorithm** to apply a unit test to confirm that your algorithm met the success criteria. "
   ]
  }
 ],
 "metadata": {
  "kernelspec": {
   "display_name": "Python 3",
   "language": "python",
   "name": "python3"
  },
  "language_info": {
   "codemirror_mode": {
    "name": "ipython",
    "version": 3
   },
   "file_extension": ".py",
   "mimetype": "text/x-python",
   "name": "python",
   "nbconvert_exporter": "python",
   "pygments_lexer": "ipython3",
   "version": "3.7.3"
  }
 },
 "nbformat": 4,
 "nbformat_minor": 4
}
